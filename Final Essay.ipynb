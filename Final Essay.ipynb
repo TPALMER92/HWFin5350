{
 "cells": [
  {
   "cell_type": "markdown",
   "metadata": {},
   "source": [
    "Terrance Palmer\n",
    "12/15/17\n",
    "Fin5350 Final Essay\n",
    "\n",
    "What Should Computational Economists Do?\n",
    "First Thoughts\n",
    "I consider myself to be a pretty logical person and I try to compare everything to numbers. It is just easier for me to process numbers than it is colors or phrases. So when we started doing financial computations I thought that this would be a great idea and it could be applied in so many different aspects of life. I was just hesitant to assume that we would be able to predict how humans would react. I thought it would be a great way to predict pricing and monetary goods for our economy but I thought there would be no way to use it in the social sciences.\n",
    "\n",
    "That being said I think economist should be constantly looking to hedge the future for all of society. I think it is hard to create a definite responsibility list for computational economists because in my mind their responsibilities should be constantly transforming and evolving. I think with growing technology we should really take advantage of that and implement simulations into social sciences. I really think this could be a huge advantage for criminal justice majors and for all aspects of the social sciences. I think we don’t need to focus so much on fiscal monetary needs because that will come naturally to the greedy arbitrage seeking financial economists but rather we should look to understand behavior and why people act the way they do. I think the way to do this is to fail but then immediately correct our mistakes and try again. In the article from Buchanan he tells us a little bit about himself. “I remain notorious for my failure to look quickly enough at highway-route maps, hoping always that some intuitive directional instinct will keep me along the planned patter of my journey. I learned many years ago that “optimal” behavior involves stopping as soon after one gets “lost,” after uncertainty beyond a certain limit is reached, and consulting a properly drawn map.” (Buchanan, 1) I think this is a great mindset to have on life and especially in the world of a computational economists.\n",
    "\n",
    "Simulating Human Behavior\n",
    "\n",
    "The idea of being able to predict the way a human would react seems nearly unreachable. But I feel like society as a whole is looking to get gain or to get ahead monetary wise over their neighbor. If you look as human behavior in this mindset you can just assume we will always do what is best for our monetary situation and then it becomes a little easier to predict how they will react.  There is also a huge amount of data that comes with monitoring human behavior and it may be difficult to process the data. One thing it really liked from the first article I read was “A major challenge is that results are often path-dependent, meaning that history matters. To understand the results often means understanding the details of the history of a given run.” (from advancing the are of simulation in the social sciences). \n",
    "\n",
    "I think it is extremely important to look at the past and see how we have acted and reacted in order to simulate social sciences and predict what could happen in our future. However, I think another difficult thing to simulate is that society is constantly changing and that is difficult to incorporate in your model and coding. We as a people are definitely not the same people we were 100 years ago, 50 years ago, or even 10 years ago. Maybe I am assuming too much but I think we are starting to make decisions less on our moral mindset and more out of greed. I think this makes it easier to simulate human behavior.\n",
    "\n",
    "Once we are able to accurately simulate human behavior I think we could be able to better understand depression. I think it would show us a better way to get out of depression and prevent it. This would only be the beginning to all the mental disorders we have in the world. We could run thousands of simulations and understand what leads to these issues so that we could prevent them in the future. \n",
    "\n",
    "Criminal Justice\n",
    "This is what gets me the most excited when I think about how computational economists can change this field. Crime is such a hard thing to regulate and predict. There is only so many facts that can be found so in the end you depend a lot on testimonies of witnesses and victims along with the moral assumption of the jury. If you could find a way to simulate how one might act given a certain set of circumstances then you could present data to a jury is such a greater and more powerful way.  Currently the work of gathering useful data is by having a small experimental group or by taking a survey and asking hundreds of people what they would do in a given circumstance. This is great and useful but is extremely limited. If you could develop a program to simulate human behavior especially in regards to public crimes you could replicate this process thousands even millions of times and have a more consistent accurate data base. If the article about experimental science it says “simulations can be used to empirically test theoretical hypotheses in the same way as experiments”. (Reiss, 11) This means that the data from these models could be just as useful as the current ways we gather information from the public. \n",
    "\n",
    "So, What Should Computational Economists Do?\n",
    "\n",
    "I think the direction we should take is to benefit the social sciences by learning how to simulate human behavior. I think this will never be a perfect simulation but it can become more and more accurate with a small standard error. I think this could save tons of time and decrease the chance of falsely incriminating someone and even understand and prevent terrorist attacks. I think if we can better simulate humans then we can better understand depression and other mental illnesses that we go through. \n",
    "Works Cited\n",
    "Axelrod, Robert. \"Advancing the Art of Simulation in the Social Sciences .\" Complexity (1997).\n",
    "Buchanan, James M. \"What Should Economists Do?\" The SOUTHERN ECONOMIC JOURNAL XXX.3 (1964).\n",
    "Reiss, Julian. \"A Plea for (Good) SImulations: Nudging Economics Toward an Experimental Science.\" SAGE (2011).\n",
    "\n",
    "\n",
    "\n",
    "\n",
    "\n",
    "\n",
    "\n"
   ]
  }
 ],
 "metadata": {
  "kernelspec": {
   "display_name": "Python 3",
   "language": "python",
   "name": "python3"
  },
  "language_info": {
   "codemirror_mode": {
    "name": "ipython",
    "version": 3
   },
   "file_extension": ".py",
   "mimetype": "text/x-python",
   "name": "python",
   "nbconvert_exporter": "python",
   "pygments_lexer": "ipython3",
   "version": "3.6.1"
  }
 },
 "nbformat": 4,
 "nbformat_minor": 2
}
